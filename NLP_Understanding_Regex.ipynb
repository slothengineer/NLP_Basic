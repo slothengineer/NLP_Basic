{
  "cells": [
    {
      "cell_type": "markdown",
      "source": [
        "# Understanding_Regex"
      ],
      "metadata": {
        "id": "LMTm9IcN6yOm"
      }
    },
    {
      "cell_type": "markdown",
      "metadata": {
        "id": "6ki6qyza6tSp"
      },
      "source": [
        "# Import the 're' Module"
      ]
    },
    {
      "cell_type": "code",
      "execution_count": 1,
      "metadata": {
        "id": "0CBmXNw-6tSt"
      },
      "outputs": [],
      "source": [
        "import re"
      ]
    },
    {
      "cell_type": "markdown",
      "metadata": {
        "id": "OEFH1Xwz6tSv"
      },
      "source": [
        "# Sample Text"
      ]
    },
    {
      "cell_type": "code",
      "execution_count": 4,
      "metadata": {
        "id": "bWn26yWH6tSv"
      },
      "outputs": [],
      "source": [
        "text = \"\"\"Regular Expressions (Regex) is a powerful tool in NLP for pattern matching and text processing.\n",
        "It allows us to define search patterns using special characters and rules to find, extract, or replace specific text within large datasets. Regex is widely used for text cleaning, data validation, entity extraction, and preprocessing tasks. For example, it can be used to extract email addresses, phone numbers, dates, and specific keywords from raw text.\n",
        "Key components of regex include character classes (e.g., [0-9] for digits), quantifiers (*, +, ? for repetitions), and metacharacters (\\d for digits, \\w for words, \\s for spaces). While regex is incredibly efficient for rule-based text manipulation, complex patterns can be tricky to manage, making it important to balance flexibility and accuracy when applying it in NLP tasks.\"\"\""
      ]
    },
    {
      "cell_type": "markdown",
      "metadata": {
        "id": "xX9f5_yE6tSw"
      },
      "source": [
        "# Basic Regex Operations"
      ]
    },
    {
      "cell_type": "markdown",
      "metadata": {
        "id": "d17jPXic6tSx"
      },
      "source": [
        "Regex allows you to perform various operations on text, such as searching for patterns, replacing text, and splitting strings."
      ]
    },
    {
      "cell_type": "markdown",
      "metadata": {
        "id": "MS9K7Peg6tSy"
      },
      "source": [
        "### Searching for a Pattern"
      ]
    },
    {
      "cell_type": "code",
      "execution_count": 6,
      "metadata": {
        "colab": {
          "base_uri": "https://localhost:8080/"
        },
        "id": "7JoLOGkW6tSy",
        "outputId": "ab818d62-f218-4db7-b96c-f5bdc19b6cfc"
      },
      "outputs": [
        {
          "output_type": "stream",
          "name": "stdout",
          "text": [
            "Matches: ['regex', 'regex']\n"
          ]
        }
      ],
      "source": [
        "pattern = r\"regex\"\n",
        "matches = re.findall(pattern, text)\n",
        "print(\"Matches:\", matches)"
      ]
    },
    {
      "cell_type": "markdown",
      "metadata": {
        "id": "cqtlidhn6tSz"
      },
      "source": [
        "### Replacing Text"
      ]
    },
    {
      "cell_type": "code",
      "execution_count": 7,
      "metadata": {
        "colab": {
          "base_uri": "https://localhost:8080/"
        },
        "id": "FTX89Ckv6tS0",
        "outputId": "c7704537-bd4e-4c75-9789-b5aff2494f40"
      },
      "outputs": [
        {
          "output_type": "stream",
          "name": "stdout",
          "text": [
            "New Text: Regular Expressions (Regex) is a powerful tool in NLP for pattern matching and text processing. \n",
            "It allows us to define search patterns using special characters and rules to find, extract, or replace specific text within large datasets. Regex is widely used for text cleaning, data validation, entity extraction, and preprocessing tasks. For example, it can be used to extract email addresses, phone numbers, dates, and specific keywords from raw text. \n",
            "Key components of regex include character classes (e.g., [0-9] for digits), quantifiers (*, +, ? for repetitions), and metacharacters (\\d for digits, \\w for words, \\s for spaces). While regex is incredibly efficient for rule-based text manipulation, complex patterns can be tricky to manage, making it important to balance flexibility and accuracy when applying it in NLP tasks.\n"
          ]
        }
      ],
      "source": [
        "pattern = r\"fox\"\n",
        "replacement = \"cat\"\n",
        "new_text = re.sub(pattern, replacement, text)\n",
        "print(\"New Text:\", new_text)"
      ]
    },
    {
      "cell_type": "markdown",
      "metadata": {
        "id": "di7tPeUf6tS1"
      },
      "source": [
        "### Splitting Strings"
      ]
    },
    {
      "cell_type": "code",
      "execution_count": 8,
      "metadata": {
        "colab": {
          "base_uri": "https://localhost:8080/"
        },
        "id": "7gY_21DK6tS1",
        "outputId": "f54b6010-63d9-44bb-92c8-720efe17c363"
      },
      "outputs": [
        {
          "output_type": "stream",
          "name": "stdout",
          "text": [
            "Split Text: ['Regular', 'Expressions', '(Regex)', 'is', 'a', 'powerful', 'tool', 'in', 'NLP', 'for', 'pattern', 'matching', 'and', 'text', 'processing.', '', 'It', 'allows', 'us', 'to', 'define', 'search', 'patterns', 'using', 'special', 'characters', 'and', 'rules', 'to', 'find,', 'extract,', 'or', 'replace', 'specific', 'text', 'within', 'large', 'datasets.', 'Regex', 'is', 'widely', 'used', 'for', 'text', 'cleaning,', 'data', 'validation,', 'entity', 'extraction,', 'and', 'preprocessing', 'tasks.', 'For', 'example,', 'it', 'can', 'be', 'used', 'to', 'extract', 'email', 'addresses,', 'phone', 'numbers,', 'dates,', 'and', 'specific', 'keywords', 'from', 'raw', 'text.', '', 'Key', 'components', 'of', 'regex', 'include', 'character', 'classes', '(e.g.,', '[0-9]', 'for', 'digits),', 'quantifiers', '(*,', '+,', '?', 'for', 'repetitions),', 'and', 'metacharacters', '(\\\\d', 'for', 'digits,', '\\\\w', 'for', 'words,', '\\\\s', 'for', 'spaces).', 'While', 'regex', 'is', 'incredibly', 'efficient', 'for', 'rule-based', 'text', 'manipulation,', 'complex', 'patterns', 'can', 'be', 'tricky', 'to', 'manage,', 'making', 'it', 'important', 'to', 'balance', 'flexibility', 'and', 'accuracy', 'when', 'applying', 'it', 'in', 'NLP', 'tasks.']\n"
          ]
        }
      ],
      "source": [
        "pattern = r\"\\s\"  # Split on spaces\n",
        "split_text = re.split(pattern, text)\n",
        "print(\"Split Text:\", split_text)"
      ]
    },
    {
      "cell_type": "markdown",
      "metadata": {
        "id": "Hf3P9Bhr6tS2"
      },
      "source": [
        "# Character Classes and Quantifiers"
      ]
    },
    {
      "cell_type": "markdown",
      "metadata": {
        "id": "r0CrhsuQ6tS2"
      },
      "source": [
        "### Character Classes"
      ]
    },
    {
      "cell_type": "code",
      "execution_count": 9,
      "metadata": {
        "colab": {
          "base_uri": "https://localhost:8080/"
        },
        "id": "lmEVwvVD6tS2",
        "outputId": "ae4275a4-9e45-4f59-ac6e-5a16e7057733"
      },
      "outputs": [
        {
          "output_type": "stream",
          "name": "stdout",
          "text": [
            "Vowels: ['e', 'u', 'a', 'e', 'i', 'o', 'e', 'e', 'i', 'a', 'o', 'e', 'u', 'o', 'o', 'i', 'o', 'a', 'e', 'a', 'i', 'a', 'e', 'o', 'e', 'i', 'a', 'o', 'u', 'o', 'e', 'i', 'e', 'e', 'a', 'a', 'e', 'u', 'i', 'e', 'i', 'a', 'a', 'a', 'e', 'a', 'u', 'e', 'o', 'i', 'e', 'a', 'o', 'e', 'a', 'e', 'e', 'i', 'i', 'e', 'i', 'i', 'a', 'e', 'a', 'a', 'e', 'e', 'e', 'i', 'i', 'e', 'u', 'e', 'o', 'e', 'e', 'a', 'i', 'a', 'a', 'a', 'i', 'a', 'i', 'o', 'e', 'i', 'e', 'a', 'i', 'o', 'a', 'e', 'o', 'e', 'i', 'a', 'o', 'e', 'a', 'e', 'i', 'a', 'e', 'u', 'e', 'o', 'e', 'a', 'e', 'a', 'i', 'a', 'e', 'e', 'o', 'e', 'u', 'e', 'a', 'e', 'a', 'e', 'i', 'i', 'e', 'o', 'o', 'a', 'e', 'e', 'o', 'o', 'e', 'o', 'e', 'e', 'i', 'u', 'e', 'a', 'a', 'e', 'a', 'e', 'e', 'o', 'i', 'i', 'u', 'a', 'i', 'i', 'e', 'o', 'e', 'e', 'i', 'i', 'o', 'a', 'e', 'a', 'a', 'a', 'e', 'o', 'i', 'i', 'o', 'o', 'o', 'a', 'e', 'i', 'e', 'e', 'e', 'i', 'i', 'e', 'i', 'e', 'i', 'i', 'e', 'o', 'u', 'e', 'a', 'e', 'e', 'a', 'i', 'u', 'a', 'i', 'o', 'o', 'e', 'a', 'e', 'a', 'e', 'i', 'o', 'a', 'a', 'e', 'a', 'i', 'i', 'i', 'o', 'a', 'o', 'a', 'a', 'e', 'e', 'i', 'i', 'i', 'a', 'a', 'u', 'a', 'e', 'a', 'i', 'i', 'i', 'a']\n"
          ]
        }
      ],
      "source": [
        "pattern = r\"[aeiou]\"\n",
        "vowels = re.findall(pattern, text)\n",
        "print(\"Vowels:\", vowels)"
      ]
    },
    {
      "cell_type": "markdown",
      "metadata": {
        "id": "cABOpZ_-6tS3"
      },
      "source": [
        "### Quantifiers"
      ]
    },
    {
      "cell_type": "code",
      "execution_count": 10,
      "metadata": {
        "colab": {
          "base_uri": "https://localhost:8080/"
        },
        "id": "i2NjAp3p6tS3",
        "outputId": "e866f0d3-514e-4e97-a1dc-f66b4d7f8914"
      },
      "outputs": [
        {
          "output_type": "stream",
          "name": "stdout",
          "text": [
            "Matches: ['oo']\n"
          ]
        }
      ],
      "source": [
        "pattern = r\"o{2}\"  # Matches two consecutive 'o' characters\n",
        "matches = re.findall(pattern, text)\n",
        "print(\"Matches:\", matches)"
      ]
    },
    {
      "cell_type": "markdown",
      "metadata": {
        "id": "nhNHfYKm6tS3"
      },
      "source": [
        "# Metacharacters and Anchors"
      ]
    },
    {
      "cell_type": "markdown",
      "metadata": {
        "id": "IZdIfjgw6tS4"
      },
      "source": [
        "### Metacharacters"
      ]
    },
    {
      "cell_type": "code",
      "execution_count": 11,
      "metadata": {
        "colab": {
          "base_uri": "https://localhost:8080/"
        },
        "id": "_rA9nbh66tS4",
        "outputId": "9248a089-8305-4fb3-cfec-f0effead094d"
      },
      "outputs": [
        {
          "output_type": "stream",
          "name": "stdout",
          "text": [
            "Matches: ['NLP', 'for', 'and', 'and', 'for', 'and', 'For', 'can', 'and', 'raw', 'Key', 'for', 'for', 'and', 'for', 'for', 'for', 'for', 'can', 'and', 'NLP']\n"
          ]
        }
      ],
      "source": [
        "pattern = r\"\\b\\w{3}\\b\"  # Matches three-letter words\n",
        "matches = re.findall(pattern, text)\n",
        "print(\"Matches:\", matches)"
      ]
    },
    {
      "cell_type": "markdown",
      "metadata": {
        "id": "7y2bNpxk6tS4"
      },
      "source": [
        "### Anchors"
      ]
    },
    {
      "cell_type": "code",
      "execution_count": 13,
      "metadata": {
        "colab": {
          "base_uri": "https://localhost:8080/"
        },
        "id": "mg0aD6f_6tS4",
        "outputId": "0ce357eb-283b-41da-d076-68f1b64e7018"
      },
      "outputs": [
        {
          "output_type": "stream",
          "name": "stdout",
          "text": [
            "Matches: ['Regular']\n"
          ]
        }
      ],
      "source": [
        "pattern = r\"^Regular\"\n",
        "matches = re.findall(pattern, text)\n",
        "print(\"Matches:\", matches)"
      ]
    },
    {
      "cell_type": "markdown",
      "metadata": {
        "id": "NibJIkuS6tS5"
      },
      "source": [
        "# Grouping and Capturing"
      ]
    },
    {
      "cell_type": "code",
      "execution_count": 14,
      "metadata": {
        "colab": {
          "base_uri": "https://localhost:8080/"
        },
        "id": "zlpQ-BWR6tS5",
        "outputId": "82e55887-c5ae-4891-dbe2-d14a42b5a0d5"
      },
      "outputs": [
        {
          "output_type": "stream",
          "name": "stdout",
          "text": [
            "Matches: [('Regular', 'Expressions'), ('is', 'a'), ('powerful', 'tool'), ('in', 'NLP'), ('for', 'pattern'), ('matching', 'and'), ('text', 'processing'), ('It', 'allows'), ('us', 'to'), ('define', 'search'), ('patterns', 'using'), ('special', 'characters'), ('and', 'rules'), ('to', 'find'), ('or', 'replace'), ('specific', 'text'), ('within', 'large'), ('Regex', 'is'), ('widely', 'used'), ('for', 'text'), ('data', 'validation'), ('entity', 'extraction'), ('and', 'preprocessing'), ('For', 'example'), ('it', 'can'), ('be', 'used'), ('to', 'extract'), ('email', 'addresses'), ('phone', 'numbers'), ('and', 'specific'), ('keywords', 'from'), ('raw', 'text'), ('Key', 'components'), ('of', 'regex'), ('include', 'character'), ('for', 'digits'), ('for', 'repetitions'), ('and', 'metacharacters'), ('d', 'for'), ('w', 'for'), ('s', 'for'), ('While', 'regex'), ('is', 'incredibly'), ('efficient', 'for'), ('based', 'text'), ('complex', 'patterns'), ('can', 'be'), ('tricky', 'to'), ('making', 'it'), ('important', 'to'), ('balance', 'flexibility'), ('and', 'accuracy'), ('when', 'applying'), ('it', 'in'), ('NLP', 'tasks')]\n"
          ]
        }
      ],
      "source": [
        "pattern = r\"(\\w+)\\s(\\w+)\"  # Matches two consecutive words\n",
        "matches = re.findall(pattern, text)\n",
        "print(\"Matches:\", matches)"
      ]
    },
    {
      "cell_type": "markdown",
      "metadata": {
        "id": "LLdwNzHl6tS6"
      },
      "source": [
        "# Using Regex for Tokenization"
      ]
    },
    {
      "cell_type": "markdown",
      "metadata": {
        "id": "GyzNODaX6tS6"
      },
      "source": [
        "Regex is also useful for tokenizing text into words or sentences."
      ]
    },
    {
      "cell_type": "markdown",
      "metadata": {
        "id": "a07IvPXa6tS6"
      },
      "source": [
        "### Tokenizing into Words"
      ]
    },
    {
      "cell_type": "code",
      "execution_count": 15,
      "metadata": {
        "colab": {
          "base_uri": "https://localhost:8080/"
        },
        "id": "_2870aXr6tS6",
        "outputId": "45c7c9be-5bdb-49e6-8b1c-0d120075cc76"
      },
      "outputs": [
        {
          "output_type": "stream",
          "name": "stdout",
          "text": [
            "Words: ['Regular', 'Expressions', '(Regex)', 'is', 'a', 'powerful', 'tool', 'in', 'NLP', 'for', 'pattern', 'matching', 'and', 'text', 'processing.', '', 'It', 'allows', 'us', 'to', 'define', 'search', 'patterns', 'using', 'special', 'characters', 'and', 'rules', 'to', 'find,', 'extract,', 'or', 'replace', 'specific', 'text', 'within', 'large', 'datasets.', 'Regex', 'is', 'widely', 'used', 'for', 'text', 'cleaning,', 'data', 'validation,', 'entity', 'extraction,', 'and', 'preprocessing', 'tasks.', 'For', 'example,', 'it', 'can', 'be', 'used', 'to', 'extract', 'email', 'addresses,', 'phone', 'numbers,', 'dates,', 'and', 'specific', 'keywords', 'from', 'raw', 'text.', '', 'Key', 'components', 'of', 'regex', 'include', 'character', 'classes', '(e.g.,', '[0-9]', 'for', 'digits),', 'quantifiers', '(*,', '+,', '?', 'for', 'repetitions),', 'and', 'metacharacters', '(\\\\d', 'for', 'digits,', '\\\\w', 'for', 'words,', '\\\\s', 'for', 'spaces).', 'While', 'regex', 'is', 'incredibly', 'efficient', 'for', 'rule-based', 'text', 'manipulation,', 'complex', 'patterns', 'can', 'be', 'tricky', 'to', 'manage,', 'making', 'it', 'important', 'to', 'balance', 'flexibility', 'and', 'accuracy', 'when', 'applying', 'it', 'in', 'NLP', 'tasks.']\n"
          ]
        }
      ],
      "source": [
        "pattern = r\"\\s\"  # Split on spaces\n",
        "words = re.split(pattern, text)\n",
        "print(\"Words:\", words)"
      ]
    },
    {
      "cell_type": "markdown",
      "metadata": {
        "id": "c_wsC4Nw6tS7"
      },
      "source": [
        "### Tokenizing into Sentences"
      ]
    },
    {
      "cell_type": "code",
      "execution_count": 16,
      "metadata": {
        "colab": {
          "base_uri": "https://localhost:8080/"
        },
        "id": "lmHf60yG6tS7",
        "outputId": "6b5471ab-c4c4-4b66-f6c0-664f53fd05a7"
      },
      "outputs": [
        {
          "output_type": "stream",
          "name": "stdout",
          "text": [
            "Sentences: ['Regular Expressions (Regex) is a powerful tool in NLP for pattern matching and text processing', '\\nIt allows us to define search patterns using special characters and rules to find, extract, or replace specific text within large datasets', 'Regex is widely used for text cleaning, data validation, entity extraction, and preprocessing tasks', 'For example, it can be used to extract email addresses, phone numbers, dates, and specific keywords from raw text', '\\nKey components of regex include character classes (e.g., [0-9] for digits), quantifiers (*, +, ? for repetitions), and metacharacters (\\\\d for digits, \\\\w for words, \\\\s for spaces)', 'While regex is incredibly efficient for rule-based text manipulation, complex patterns can be tricky to manage, making it important to balance flexibility and accuracy when applying it in NLP tasks.']\n"
          ]
        }
      ],
      "source": [
        "pattern = r\"\\.\\s\"  # Split after periods followed by a space\n",
        "sentences = re.split(pattern, text)\n",
        "print(\"Sentences:\", sentences)"
      ]
    },
    {
      "cell_type": "code",
      "execution_count": null,
      "metadata": {
        "id": "6n4bFVOg6tS7"
      },
      "outputs": [],
      "source": []
    }
  ],
  "metadata": {
    "kernelspec": {
      "display_name": "Python 3",
      "language": "python",
      "name": "python3"
    },
    "language_info": {
      "codemirror_mode": {
        "name": "ipython",
        "version": 3
      },
      "file_extension": ".py",
      "mimetype": "text/x-python",
      "name": "python",
      "nbconvert_exporter": "python",
      "pygments_lexer": "ipython3",
      "version": "3.8.5"
    },
    "colab": {
      "provenance": []
    }
  },
  "nbformat": 4,
  "nbformat_minor": 0
}