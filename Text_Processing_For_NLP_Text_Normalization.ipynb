{
  "cells": [
    {
      "cell_type": "markdown",
      "source": [
        "#Text_Normalization"
      ],
      "metadata": {
        "id": "fGlurQ4n3XDF"
      }
    },
    {
      "cell_type": "markdown",
      "metadata": {
        "id": "U90PCsQSoTIk"
      },
      "source": [
        "# Importing necessary libraries"
      ]
    },
    {
      "cell_type": "code",
      "execution_count": 1,
      "metadata": {
        "id": "L_H1WfxJoTIn"
      },
      "outputs": [],
      "source": [
        "import re"
      ]
    },
    {
      "cell_type": "markdown",
      "metadata": {
        "id": "vOCTH0lmoTIo"
      },
      "source": [
        "# Sample text"
      ]
    },
    {
      "cell_type": "code",
      "execution_count": 2,
      "metadata": {
        "id": "9AFBrJMYoTIp"
      },
      "outputs": [],
      "source": [
        "text = \"\"\"Text normalization is a crucial step in NLP that ensures consistency in textual data by transforming words into a standard format.\n",
        " It includes processes like lowercasing, removing punctuation, stemming, lemmatization, handling abbreviations, and expanding contractions.\n",
        " By normalizing text, NLP models can improve accuracy in sentiment analysis, machine translation, and information retrieval while reducing noise and inconsistencies.\n",
        " This step is essential for making raw text more structured and meaningful for AI-driven applications\"\"\""
      ]
    },
    {
      "cell_type": "markdown",
      "metadata": {
        "id": "z4BvBZ4poTIp"
      },
      "source": [
        "# Convert to lowercase"
      ]
    },
    {
      "cell_type": "code",
      "execution_count": 3,
      "metadata": {
        "colab": {
          "base_uri": "https://localhost:8080/"
        },
        "id": "YdrlrlSjoTIq",
        "outputId": "0894a869-c61b-4522-8b3f-119bb2f8e364"
      },
      "outputs": [
        {
          "output_type": "stream",
          "name": "stdout",
          "text": [
            "Convert to lowercase\n",
            "Lowercase text: text normalization is a crucial step in nlp that ensures consistency in textual data by transforming words into a standard format.\n",
            " it includes processes like lowercasing, removing punctuation, stemming, lemmatization, handling abbreviations, and expanding contractions. \n",
            " by normalizing text, nlp models can improve accuracy in sentiment analysis, machine translation, and information retrieval while reducing noise and inconsistencies. \n",
            " this step is essential for making raw text more structured and meaningful for ai-driven applications\n",
            "\n"
          ]
        }
      ],
      "source": [
        "print(\"Convert to lowercase\")\n",
        "lowercase_text = text.lower()\n",
        "print(\"Lowercase text:\", lowercase_text)\n",
        "print()"
      ]
    },
    {
      "cell_type": "markdown",
      "metadata": {
        "id": "rn0FgP45oTIr"
      },
      "source": [
        "# Remove Punctuation"
      ]
    },
    {
      "cell_type": "code",
      "execution_count": 4,
      "metadata": {
        "colab": {
          "base_uri": "https://localhost:8080/"
        },
        "id": "WdvXlTi3oTIs",
        "outputId": "ce34ceae-4471-4cbb-c13e-f4d5397fa056"
      },
      "outputs": [
        {
          "output_type": "stream",
          "name": "stdout",
          "text": [
            "Remove punctuation\n",
            "Text without punctuation: text normalization is a crucial step in nlp that ensures consistency in textual data by transforming words into a standard format\n",
            " it includes processes like lowercasing removing punctuation stemming lemmatization handling abbreviations and expanding contractions \n",
            " by normalizing text nlp models can improve accuracy in sentiment analysis machine translation and information retrieval while reducing noise and inconsistencies \n",
            " this step is essential for making raw text more structured and meaningful for aidriven applications\n",
            "\n"
          ]
        }
      ],
      "source": [
        "print(\"Remove punctuation\")\n",
        "cleaned_text = re.sub(r'[^\\w\\s]', '', lowercase_text)\n",
        "print(\"Text without punctuation:\", cleaned_text)\n",
        "print()"
      ]
    },
    {
      "cell_type": "markdown",
      "metadata": {
        "id": "wC0LeLc8oTIs"
      },
      "source": [
        "# Expand Contractions"
      ]
    },
    {
      "cell_type": "code",
      "execution_count": 5,
      "metadata": {
        "colab": {
          "base_uri": "https://localhost:8080/"
        },
        "id": "q__xqPraoTIt",
        "outputId": "07e8e486-dae3-4c25-e488-e83b30eb8364"
      },
      "outputs": [
        {
          "output_type": "stream",
          "name": "stdout",
          "text": [
            "{\"can't\": 'cannot', \"won't\": 'will not', \"I'm\": 'I am'}\n"
          ]
        }
      ],
      "source": [
        "\n",
        "contractions_dict = {\n",
        "    \"can't\": \"cannot\",\n",
        "    \"won't\": \"will not\",\n",
        "    \"I'm\": \"I am\",\n",
        "}\n",
        "\n",
        "print(contractions_dict)"
      ]
    },
    {
      "cell_type": "code",
      "execution_count": 6,
      "metadata": {
        "colab": {
          "base_uri": "https://localhost:8080/"
        },
        "id": "4U-eSgcqoTIt",
        "outputId": "c8bc6afa-12d3-4e35-d120-dd019ea491c8"
      },
      "outputs": [
        {
          "output_type": "stream",
          "name": "stdout",
          "text": [
            "Text with expanded contractions: text normalization is a crucial step in nlp that ensures consistency in textual data by transforming words into a standard format it includes processes like lowercasing removing punctuation stemming lemmatization handling abbreviations and expanding contractions by normalizing text nlp models can improve accuracy in sentiment analysis machine translation and information retrieval while reducing noise and inconsistencies this step is essential for making raw text more structured and meaningful for aidriven applications\n"
          ]
        }
      ],
      "source": [
        "words = cleaned_text.split()\n",
        "expanded_words = [contractions_dict[word] if word in contractions_dict else word for word in words]\n",
        "expanded_text = ' '.join(expanded_words)\n",
        "print(\"Text with expanded contractions:\", expanded_text)"
      ]
    },
    {
      "cell_type": "code",
      "execution_count": null,
      "metadata": {
        "id": "YVpvx0oToTIu"
      },
      "outputs": [],
      "source": []
    }
  ],
  "metadata": {
    "kernelspec": {
      "display_name": "Python 3",
      "language": "python",
      "name": "python3"
    },
    "language_info": {
      "codemirror_mode": {
        "name": "ipython",
        "version": 3
      },
      "file_extension": ".py",
      "mimetype": "text/x-python",
      "name": "python",
      "nbconvert_exporter": "python",
      "pygments_lexer": "ipython3",
      "version": "3.8.5"
    },
    "colab": {
      "provenance": []
    }
  },
  "nbformat": 4,
  "nbformat_minor": 0
}